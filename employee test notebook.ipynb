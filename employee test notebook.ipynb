{
 "cells": [
  {
   "cell_type": "code",
   "execution_count": 14,
   "metadata": {},
   "outputs": [],
   "source": [
    "class Employee:\n",
    "\n",
    "    def __init__(self, first, last):\n",
    "        self.first = first \n",
    "        self.last = last\n",
    "        \n",
    "    @property\n",
    "    def email(self):\n",
    "        return f'{self.first[0].upper()}.{self.last.title()}@companyemail.com'\n",
    "    \n",
    "    @property\n",
    "    def full_name(self):\n",
    "        return f'{self.first.title()} {self.last.title()}'"
   ]
  },
  {
   "cell_type": "code",
   "execution_count": 15,
   "metadata": {},
   "outputs": [
    {
     "name": "stdout",
     "output_type": "stream",
     "text": [
      "Welcome to the Employee Management console, please select from the following Items:\n",
      "\n",
      "1: Create new employee \n",
      "2: Manage login cradentials \n",
      "3: Edit availability for employee \n",
      "4: Create weekly schedule \n",
      "5: Quit\n",
      "None1\n"
     ]
    }
   ],
   "source": [
    "print('Welcome to the Employee Management console, please select from the following Items:\\n')\n",
    "choice = input(print('1: Create new employee \\n2: Manage login cradentials \\n3: Edit availability for employee \\n4: Create weekly schedule \\n5: Quit'))"
   ]
  },
  {
   "cell_type": "code",
   "execution_count": 16,
   "metadata": {},
   "outputs": [
    {
     "name": "stdout",
     "output_type": "stream",
     "text": [
      "1\n"
     ]
    }
   ],
   "source": [
    "print(choice)"
   ]
  },
  {
   "cell_type": "code",
   "execution_count": 17,
   "metadata": {},
   "outputs": [],
   "source": [
    "def addEmployee():\n",
    "    addFirst = input(\"Enter the employee's first name: \")\n",
    "    addLast = input(\"Enter the employyee's last name: \")\n",
    "\n",
    "    newEmp = Employee(addFirst, addLast)\n",
    "    return newEmp"
   ]
  },
  {
   "cell_type": "code",
   "execution_count": 18,
   "metadata": {},
   "outputs": [
    {
     "name": "stdout",
     "output_type": "stream",
     "text": [
      "Enter the employee's first name: Marta\n",
      "Enter the employyee's last name: Kwiat\n"
     ]
    },
    {
     "ename": "NameError",
     "evalue": "name 'newEmp' is not defined",
     "output_type": "error",
     "traceback": [
      "\u001b[0;31m---------------------------------------------------------------------------\u001b[0m",
      "\u001b[0;31mNameError\u001b[0m                                 Traceback (most recent call last)",
      "\u001b[0;32m<ipython-input-18-705da44dc61d>\u001b[0m in \u001b[0;36m<module>\u001b[0;34m\u001b[0m\n\u001b[1;32m      1\u001b[0m \u001b[0maddEmployee\u001b[0m\u001b[0;34m(\u001b[0m\u001b[0;34m)\u001b[0m\u001b[0;34m\u001b[0m\u001b[0;34m\u001b[0m\u001b[0m\n\u001b[0;32m----> 2\u001b[0;31m \u001b[0mprint\u001b[0m\u001b[0;34m(\u001b[0m\u001b[0mnewEmp\u001b[0m\u001b[0;34m)\u001b[0m\u001b[0;34m\u001b[0m\u001b[0;34m\u001b[0m\u001b[0m\n\u001b[0m",
      "\u001b[0;31mNameError\u001b[0m: name 'newEmp' is not defined"
     ]
    }
   ],
   "source": [
    "addEmployee()\n",
    "print(newEmp)"
   ]
  },
  {
   "cell_type": "code",
   "execution_count": 4,
   "metadata": {},
   "outputs": [
    {
     "name": "stdout",
     "output_type": "stream",
     "text": [
      "Valid Password\n"
     ]
    }
   ],
   "source": [
    "import re\n",
    "\n",
    "password = \"R@m@_f0rtu9e$\"\n",
    "flag = 0\n",
    "while True: \n",
    "    if (len(password)<8): \n",
    "        flag = -1\n",
    "        break\n",
    "    elif not re.search(\"[a-z]\", password): \n",
    "        flag = -1\n",
    "        break\n",
    "    elif not re.search(\"[A-Z]\", password): \n",
    "        flag = -1\n",
    "        break\n",
    "    elif not re.search(\"[0-9]\", password): \n",
    "        flag = -1\n",
    "        break\n",
    "    elif not re.search(\"[_@$]\", password): \n",
    "        flag = -1\n",
    "        break\n",
    "    elif re.search(\"\\s\", password): \n",
    "        flag = -1\n",
    "        break\n",
    "    else: \n",
    "        flag = 0\n",
    "        print(\"Valid Password\") \n",
    "        break\n",
    "\n",
    "if flag ==-1: \n",
    "    print(\"Not a Valid Password\") "
   ]
  },
  {
   "cell_type": "code",
   "execution_count": 5,
   "metadata": {},
   "outputs": [],
   "source": [
    "def empPassInstruction():\n",
    "    print('Minimum 8 characters.')\n",
    "    print('The alphabets must be between [a-z]')\n",
    "    print('At least one alphabet should be of Upper Case [A-Z]')\n",
    "    print('At least 1 number or digit between [0-9].')\n",
    "    print('At least 1 character from [ _ or @ or $ ].')"
   ]
  },
  {
   "cell_type": "code",
   "execution_count": 7,
   "metadata": {},
   "outputs": [
    {
     "name": "stdout",
     "output_type": "stream",
     "text": [
      "We need to set your password. Please choose a password with the following:\n",
      "Minimum 8 characters.\n",
      "The alphabets must be between [a-z]\n",
      "At least one alphabet should be of Upper Case [A-Z]\n",
      "At least 1 number or digit between [0-9].\n",
      "At least 1 character from [ _ or @ or $ ].\n"
     ]
    }
   ],
   "source": [
    "print('We need to set your password. Please choose a password with the following:')\n",
    "empPassInstruction()"
   ]
  },
  {
   "cell_type": "code",
   "execution_count": 11,
   "metadata": {},
   "outputs": [],
   "source": [
    "def createPass():\n",
    "    empPassInstruction()\n",
    "    \n",
    "    password = input(\"Enter new password: \")\n",
    "    flag = 0\n",
    "    while True: \n",
    "        if (len(password)<8): \n",
    "            flag = -1\n",
    "            break\n",
    "        elif not re.search(\"[a-z]\", password): \n",
    "            flag = -1\n",
    "            break\n",
    "        elif not re.search(\"[A-Z]\", password): \n",
    "            flag = -1\n",
    "            break\n",
    "        elif not re.search(\"[0-9]\", password): \n",
    "            flag = -1\n",
    "            break\n",
    "        elif not re.search(\"[_@$]\", password): \n",
    "            flag = -1\n",
    "            break\n",
    "        elif re.search(\"\\s\", password): \n",
    "            flag = -1\n",
    "            break\n",
    "        else: \n",
    "            flag = 0\n",
    "            print(\"Valid Password\") \n",
    "            break\n",
    "\n",
    "    if flag ==-1: \n",
    "        print(\"Not a Valid Password\") "
   ]
  },
  {
   "cell_type": "code",
   "execution_count": 12,
   "metadata": {},
   "outputs": [
    {
     "name": "stdout",
     "output_type": "stream",
     "text": [
      "Minimum 8 characters.\n",
      "The alphabets must be between [a-z]\n",
      "At least one alphabet should be of Upper Case [A-Z]\n",
      "At least 1 number or digit between [0-9].\n",
      "At least 1 character from [ _ or @ or $ ].\n",
      "Enter new password: Dancer7392$\n",
      "Valid Password\n"
     ]
    }
   ],
   "source": [
    "createPass()"
   ]
  },
  {
   "cell_type": "code",
   "execution_count": null,
   "metadata": {},
   "outputs": [],
   "source": []
  }
 ],
 "metadata": {
  "kernelspec": {
   "display_name": "Python 3",
   "language": "python",
   "name": "python3"
  },
  "language_info": {
   "codemirror_mode": {
    "name": "ipython",
    "version": 3
   },
   "file_extension": ".py",
   "mimetype": "text/x-python",
   "name": "python",
   "nbconvert_exporter": "python",
   "pygments_lexer": "ipython3",
   "version": "3.7.6"
  }
 },
 "nbformat": 4,
 "nbformat_minor": 4
}
